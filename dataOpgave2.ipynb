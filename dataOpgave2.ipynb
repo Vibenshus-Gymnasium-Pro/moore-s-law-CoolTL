{
 "cells": [
  {
   "cell_type": "markdown",
   "id": "a08f1ace-cbe2-4473-b533-4fa77e9d8313",
   "metadata": {},
   "source": [
    "    Denne opgave er en del af NumPy-tutorials fra deres officielle hjemmeside. Du skal læse dokumentet igennem og lave så mange af øvelserne som muligt. Til sidst kan du finde alle svarene her:\n",
    "https://numpy.org/numpy-tutorials/content/mooreslaw-tutorial.html\n",
    "    \n",
    "# Bestemmelse af Moore’s lov med rigtige data i NumPy\n",
    "Gordon Moore fremsatte en empirisk forudsigelse om, at antallet af transistorer på en computerchip ville fordobles hvert andet år. Denne forudsigelse blev kendt som Moore’s lov. Gordon Moore havde oprindeligt kun forventet, at denne empiriske sammenhæng ville gælde fra 1965 til 1975 [[1](https://en.wikipedia.org/wiki/Moore%27s_law),[2](https://spectrum.ieee.org/computing/hardware/gordon-moore-the-man-whose-name-means-progress)],men semiconductor producenter var i stand til at følge Moore’s lov helt frem til 2015.\n",
    "\n",
    "I denne opgave skal du:\n",
    "\n",
    "- Læs og analysere rigtige data for antal transistor i semiconductor over tid,\n",
    "- Sammenligne Moores forudsigelse med de rigtige data,\n",
    "- Visualisere udviklingen grafisk ved hjælp af NumPy og Matplotlib,\n",
    "\n",
    "## Hvad du skal bruge\n",
    "Du vil anvende disse NumPy- og Matplotlib-funktioner:\n",
    "\n",
    "- `np.loadtxt`: indlæser tekst i et NumPy-array\n",
    "- `np.log`: tager den naturlige logaritme af alle elementer i et NumPy-array\n",
    "- `np.exp`: tager den eksponentielle funktion af alle elementer i et NumPy-array\n",
    "- `lambda`: en minimal funktionsdefinition til at lave en model-funktion\n",
    "- `plt.semilogy`: plotter x-y-data med lineær x-akse og logaritmisk y-akse\n",
    "- `plt.plot`: plotter x-y-data med lineære akser\n",
    "- `array-slicing`\n",
    "- `boolean array indexing`\n",
    "- `np.block`: kombiner arrays til 2D-arrays\n",
    "- `np.newaxis`: ændrer et 1D-array til en række- eller kolonnevektor\n",
    "- `np.savez` og `np.savetxt`: gemmer arrays i henholdsvis komprimeret NumPy-format og som tekst"
   ]
  },
  {
   "cell_type": "markdown",
   "id": "9e03c9af-ca97-46e3-ae60-dc8cec25cfb1",
   "metadata": {},
   "source": [
    "## Del 1: læs data\n",
    "\n",
    "I repo findes en CSV fil, \"Moores_Law.csv\" hentet fra [transistor count](http://www.transistorcount.com/#2020s)\n",
    "\n",
    "1. Brug kommandoen `!head Moores_Law.csv` til at se de første linjer af CSV-filen. Hvad er overskrifterne for kolonnerne?\n",
    "2. Indlæs CSV-filen. Du behøver ikke de kolonner, der angiver Processor, Designer, MOSprocess eller Area. Du skal kun bruge den anden og tredje kolonne, nemlig **Transistors** og **Date**. Dernæst skal du indlæse disse to kolonner i et NumPy-array `data` ved hjælp af `np.genfromtxt`. De ekstra indstillinger nedenfor sørger for, at data kommer i det ønskede format:\n",
    "\n",
    "- delimiter=',': angiver komma ',' som separator i CSV-filen\n",
    "- usecols=[1,2]: importerer den anden og tredje kolonne fra CSV-filen\n",
    "- skip_header=1: springer den første række over, fordi den er en overskriftsrække (header)"
   ]
  },
  {
   "cell_type": "code",
   "execution_count": null,
   "id": "16722d0e-5be5-4d14-9370-bf3b397db9a2",
   "metadata": {},
   "outputs": [],
   "source": []
  },
  {
   "cell_type": "markdown",
   "id": "6ddfa444-01cb-4e45-8f63-5f540f8365c8",
   "metadata": {},
   "source": [
    "Du har nu indlæst hele historien om semiconductor i et NumPy-array kaldet `data`. Den første kolonne indeholder antallet af MOS-transistorer, og den anden kolonne indeholder introduktionsåret skrevet med fire cifre.\n",
    "\n",
    "3. Du skal gøre dataene lettere at læse og arbejde med ved at tildele de to kolonner til variablerne `year` og `transistor_count`. Udskriv de første 10 værdier ved at anvende slicing [:10] på year- og transistor_count-arrays.\n",
    "Udskriv derefter disse værdier for at tjekke, at du har gemt dataene i de rigtige variabler."
   ]
  },
  {
   "cell_type": "markdown",
   "id": "8b89345f-753c-40f3-b269-076a2c86e28a",
   "metadata": {},
   "source": [
    "## Del 2: data analyse\n",
    "\n",
    "1. Brug `np.log` til at tage den naturlige logaritme af antal transistor der gemmes i `transistor_count`.\n",
    "2. Tegn et scatter-plot af årstal `year` (x-akse) mod  `log_transistor_count` (y-akse).\n",
    "3. Brug `stats.linregress` fra **scipy** til at lave et lineært fit på log-data og tegn i den samme plot. Hvad ser du? Passer punkterne nogenlunde til en ret linje?"
   ]
  },
  {
   "cell_type": "markdown",
   "id": "5df1fcc7-ad62-4613-8825-7a287dba4cd3",
   "metadata": {},
   "source": [
    "## Del 3: Sammenlign med Moore’s law\n",
    "Din empiriske model antager, at antallet af transistorer pr. semiconductor følger en eksponentiel vækst,\n",
    "\n",
    "$$ transistor\\_count = a\\cdot b^{t-t_0}$$ \n",
    "\n",
    "hvor $a$ og  $b$ er konstanter, der beskriver en fordobling af antal transistor hvert andet år, og hvor udgangspunktet er 2250 transistorer i 1971. Funktionen kan afbildes som en ret linje i et enkeltlogaritmisk koordinatsystem\n",
    "\n",
    "$$\\log(transister\\_count) = f(year) = AM \\cdot year+BM$$\n",
    "\n",
    "hvor $A$ and $B$ tilpasningskonstanter (fitting constants).\n",
    "\n",
    "1. Udregn *AM* og *BM* og lav en lambda-funktion kaldet `moores_law`, som beregner antallet af transistorer pr. chip efter Moore’s lov med `year`  som inputparameter.\n",
    "2. Plot både de rigtige data (scatter) og regression modellen (kurve) i samme figur på log-skala\n",
    "3. Tegn også Moore’s kurve i grafen og sammenlign med dine data."
   ]
  },
  {
   "cell_type": "markdown",
   "id": "3ccd2834-040d-49a2-b2c7-6fec924c5897",
   "metadata": {},
   "source": []
  },
  {
   "cell_type": "markdown",
   "id": "5fec55e3-ff44-48c4-a920-1f1ded11bd5e",
   "metadata": {},
   "source": []
  },
  {
   "cell_type": "code",
   "execution_count": null,
   "id": "e612e805-c883-47f9-abd8-db3d94c0a8e3",
   "metadata": {},
   "outputs": [],
   "source": []
  }
 ],
 "metadata": {
  "kernelspec": {
   "display_name": "Python 3 (ipykernel)",
   "language": "python",
   "name": "python3"
  },
  "language_info": {
   "codemirror_mode": {
    "name": "ipython",
    "version": 3
   },
   "file_extension": ".py",
   "mimetype": "text/x-python",
   "name": "python",
   "nbconvert_exporter": "python",
   "pygments_lexer": "ipython3",
   "version": "3.12.3"
  }
 },
 "nbformat": 4,
 "nbformat_minor": 5
}
